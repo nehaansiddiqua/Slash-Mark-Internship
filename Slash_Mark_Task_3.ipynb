{
  "nbformat": 4,
  "nbformat_minor": 0,
  "metadata": {
    "colab": {
      "provenance": [],
      "authorship_tag": "ABX9TyPXW7OthhEDmEHkVrZJf23L",
      "include_colab_link": true
    },
    "kernelspec": {
      "name": "python3",
      "display_name": "Python 3"
    },
    "language_info": {
      "name": "python"
    }
  },
  "cells": [
    {
      "cell_type": "markdown",
      "metadata": {
        "id": "view-in-github",
        "colab_type": "text"
      },
      "source": [
        "<a href=\"https://colab.research.google.com/github/nehaansiddiqua/Slash-Mark-Internship/blob/main/Slash_Mark_Task_3.ipynb\" target=\"_parent\"><img src=\"https://colab.research.google.com/assets/colab-badge.svg\" alt=\"Open In Colab\"/></a>"
      ]
    },
    {
      "cell_type": "code",
      "execution_count": 2,
      "metadata": {
        "colab": {
          "base_uri": "https://localhost:8080/"
        },
        "id": "5iFGsJUIQMLu",
        "outputId": "a61826c9-27f1-46a4-be63-82a98abca250"
      },
      "outputs": [
        {
          "output_type": "stream",
          "name": "stderr",
          "text": [
            "[nltk_data] Downloading package punkt to /root/nltk_data...\n",
            "[nltk_data]   Unzipping tokenizers/punkt.zip.\n"
          ]
        },
        {
          "output_type": "stream",
          "name": "stdout",
          "text": [
            "No plagiarism detected.\n",
            "Similarity score: 0.20263934188166555\n"
          ]
        }
      ],
      "source": [
        "import re\n",
        "import nltk\n",
        "nltk.download('punkt')\n",
        "from collections import Counter\n",
        "from sklearn.feature_extraction.text import TfidfVectorizer\n",
        "from sklearn.metrics.pairwise import cosine_similarity\n",
        "\n",
        "# Sample text inputs\n",
        "original_text = \"Plagiarism is an unethical practice that involves copying someone else's work without proper attribution.\"\n",
        "suspicious_text = \"Plagiarism is the act of using someone else's work and passing it off as your own.\"\n",
        "\n",
        "# Preprocessing function\n",
        "def preprocess_text(text):\n",
        "    text = text.lower()  # Convert to lowercase\n",
        "    text = re.sub(r'\\W', ' ', text)  # Remove non-word characters\n",
        "    text = re.sub(r'\\s+', ' ', text)  # Remove extra whitespaces\n",
        "    return text.strip()\n",
        "\n",
        "# Calculate cosine similarity between two texts\n",
        "def calculate_similarity(original_text, suspicious_text):\n",
        "    # Preprocess the texts\n",
        "    original_text = preprocess_text(original_text)\n",
        "    suspicious_text = preprocess_text(suspicious_text)\n",
        "\n",
        "    # Tokenize the texts\n",
        "    original_tokens = nltk.word_tokenize(original_text)\n",
        "    suspicious_tokens = nltk.word_tokenize(suspicious_text)\n",
        "\n",
        "    # Create bag of words representations\n",
        "    original_bow = Counter(original_tokens)\n",
        "    suspicious_bow = Counter(suspicious_tokens)\n",
        "\n",
        "    # Compute TF-IDF vectors\n",
        "    vectorizer = TfidfVectorizer()\n",
        "    tfidf_matrix = vectorizer.fit_transform([original_text, suspicious_text])\n",
        "\n",
        "    # Calculate cosine similarity\n",
        "    similarity = cosine_similarity(tfidf_matrix[0:1], tfidf_matrix[1:2])[0][0]\n",
        "\n",
        "    return similarity\n",
        "\n",
        "# Detect plagiarism\n",
        "similarity_score = calculate_similarity(original_text, suspicious_text)\n",
        "if similarity_score > 0.8:\n",
        "    print(\"Plagiarism detected!\")\n",
        "    print(f\"Similarity score: {similarity_score}\")\n",
        "else:\n",
        "    print(\"No plagiarism detected.\")\n",
        "    print(f\"Similarity score: {similarity_score}\")\n"
      ]
    }
  ]
}