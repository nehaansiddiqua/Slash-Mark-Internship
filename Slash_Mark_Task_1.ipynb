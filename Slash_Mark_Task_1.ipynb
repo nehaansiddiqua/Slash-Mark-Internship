{
  "nbformat": 4,
  "nbformat_minor": 0,
  "metadata": {
    "colab": {
      "provenance": [],
      "authorship_tag": "ABX9TyOmEf2r1bkhbiIGyydT7BGj",
      "include_colab_link": true
    },
    "kernelspec": {
      "name": "python3",
      "display_name": "Python 3"
    },
    "language_info": {
      "name": "python"
    }
  },
  "cells": [
    {
      "cell_type": "markdown",
      "metadata": {
        "id": "view-in-github",
        "colab_type": "text"
      },
      "source": [
        "<a href=\"https://colab.research.google.com/github/nehaansiddiqua/Slash-Mark-Internship/blob/main/Slash_Mark_Task_1.ipynb\" target=\"_parent\"><img src=\"https://colab.research.google.com/assets/colab-badge.svg\" alt=\"Open In Colab\"/></a>"
      ]
    },
    {
      "cell_type": "code",
      "execution_count": 1,
      "metadata": {
        "colab": {
          "base_uri": "https://localhost:8080/"
        },
        "id": "z3TTS8Xet-3z",
        "outputId": "7858515e-bb4c-4988-ddb1-a043165cd09c"
      },
      "outputs": [
        {
          "output_type": "stream",
          "name": "stdout",
          "text": [
            "Text: 'I love this restaurant! The food is amazing.'\n",
            "Sentiment: Positive\n",
            "\n",
            "Text: 'The service was terrible, and the food was cold.'\n",
            "Sentiment: Negative\n",
            "\n",
            "Text: 'Had a decent experience at the restaurant.'\n",
            "Sentiment: Neutral\n",
            "\n",
            "Text: 'The ambiance was nice, but the food was disappointing.'\n",
            "Sentiment: Negative\n",
            "\n",
            "Text: 'Great place to dine with family and friends.'\n",
            "Sentiment: Positive\n",
            "\n"
          ]
        },
        {
          "output_type": "stream",
          "name": "stderr",
          "text": [
            "[nltk_data] Downloading package vader_lexicon to /root/nltk_data...\n"
          ]
        }
      ],
      "source": [
        "import nltk\n",
        "from nltk.sentiment.vader import SentimentIntensityAnalyzer\n",
        "\n",
        "# Download NLTK data if not already downloaded\n",
        "nltk.download('vader_lexicon')\n",
        "\n",
        "# Initialize the VADER sentiment analyzer\n",
        "sid = SentimentIntensityAnalyzer()\n",
        "\n",
        "def analyze_sentiment(text):\n",
        "    \"\"\"\n",
        "    Analyzes the sentiment of the given text and returns the sentiment label\n",
        "    \"\"\"\n",
        "    # Get the sentiment scores\n",
        "    scores = sid.polarity_scores(text)\n",
        "\n",
        "    # Determine the sentiment label based on compound score\n",
        "    if scores['compound'] >= 0.05:\n",
        "        return 'Positive'\n",
        "    elif scores['compound'] <= -0.05:\n",
        "        return 'Negative'\n",
        "    else:\n",
        "        return 'Neutral'\n",
        "\n",
        "# Example text data\n",
        "text_data = [\n",
        "    \"I love this restaurant! The food is amazing.\",\n",
        "    \"The service was terrible, and the food was cold.\",\n",
        "    \"Had a decent experience at the restaurant.\",\n",
        "    \"The ambiance was nice, but the food was disappointing.\",\n",
        "    \"Great place to dine with family and friends.\"\n",
        "]\n",
        "\n",
        "# Analyze sentiment for each text\n",
        "for text in text_data:\n",
        "    sentiment = analyze_sentiment(text)\n",
        "    print(f\"Text: '{text}'\\nSentiment: {sentiment}\\n\")\n"
      ]
    }
  ]
}